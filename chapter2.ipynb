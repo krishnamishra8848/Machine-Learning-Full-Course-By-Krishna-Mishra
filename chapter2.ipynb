{
 "cells": [
  {
   "cell_type": "markdown",
   "metadata": {},
   "source": [
    "Chapter 2\n",
    "Supervised Machine Learning (Batch Learning)"
   ]
  },
  {
   "cell_type": "markdown",
   "metadata": {},
   "source": [
    "What is Supervised Machine Learning?\n",
    "Regression vs Classification"
   ]
  },
  {
   "cell_type": "markdown",
   "metadata": {},
   "source": [
    "Data Preparation and Preprocessing Techniques"
   ]
  },
  {
   "cell_type": "code",
   "execution_count": null,
   "metadata": {},
   "outputs": [],
   "source": [
    "\n",
    "# Next Steps after seeing the correlation\n",
    "\n",
    "# Data Analysis\n",
    "# Handling Missing Values\n",
    "# Removing Duplicates\n",
    "# Outlier Detection\n",
    "# Handling Outliers\n",
    "# Handling Categorical Data issues\n",
    "# Handling Numerical Data issues\n",
    "# Feature Engineering\n",
    "# Feature Selection\n",
    "# Data Transformation (Handling Skewness)\n",
    "# Data Normalization (Scaling like standardization, MinMaxScaler, RobustScaler)\n",
    "# Data Encoding (One-Hot Encoding, Label Encoding, Ordinal Encoding)\n",
    "# Class Imbalance Handling\n",
    "# Data Splitting\n",
    "# Modeling\n",
    "# Cross-Validation\n",
    "# Hyperparameter Tuning\n",
    "# Model Evaluation\n",
    "# Model Interpretability\n",
    "# Model Deployment"
   ]
  },
  {
   "cell_type": "code",
   "execution_count": 18,
   "metadata": {},
   "outputs": [],
   "source": [
    "# Normal Distribution\n",
    "# It basically means how the data is distributed\n",
    "\n",
    "# How to check if data is normally distributed?\n",
    "# 1. Histogram\n",
    "# 2. Usiing skew function"
   ]
  },
  {
   "cell_type": "code",
   "execution_count": 19,
   "metadata": {},
   "outputs": [
    {
     "data": {
      "text/plain": [
       "<Axes: >"
      ]
     },
     "execution_count": 19,
     "metadata": {},
     "output_type": "execute_result"
    },
    {
     "data": {
      "image/png": "[encoded data removed]",
      "text/plain": [
       "<Figure size 640x480 with 1 Axes>"
      ]
     },
     "metadata": {},
     "output_type": "display_data"
    }
   ],
   "source": [
    "# Check for Normal Distribution using Histogram\n",
    "df['Age'].hist()"
   ]
  },
  {
   "cell_type": "code",
   "execution_count": 20,
   "metadata": {},
   "outputs": [
    {
     "data": {
      "text/plain": [
       "<Axes: >"
      ]
     },
     "execution_count": 20,
     "metadata": {},
     "output_type": "execute_result"
    },
    {
     "data": {
      "image/png": "[encoded data removed]",
      "text/plain": [
       "<Figure size 640x480 with 1 Axes>"
      ]
     },
     "metadata": {},
     "output_type": "display_data"
    }
   ],
   "source": [
    "# Check for Normal Distribution using Histogram\n",
    "df['Fare'].hist()"
   ]
  },
  {
   "cell_type": "code",
   "execution_count": 24,
   "metadata": {},
   "outputs": [
    {
     "name": "stdout",
     "output_type": "stream",
     "text": [
      "0.38910778230082704 4.787316519674893\n"
     ]
    }
   ],
   "source": [
    "# Check for Normal Distribution using Skew\n",
    "# Generaaly, we consider data is normally distributed if skew value is between -0.5 to 0.5\n",
    "# If skew value is less than -0.5 then data is left skewed\n",
    "# If skew value is greater than 0.5 then data is right skewed\n",
    "\n",
    "age=df['Age'].skew()\n",
    "fare= df['Fare'].skew()\n",
    "print(age, fare)"
   ]
  },
  {
   "cell_type": "code",
   "execution_count": 116,
   "metadata": {},
   "outputs": [
    {
     "data": {
      "text/html": [
       "<div>\n",
       "<style scoped>\n",
       "    .dataframe tbody tr th:only-of-type {\n",
       "        vertical-align: middle;\n",
       "    }\n",
       "\n",
       "    .dataframe tbody tr th {\n",
       "        vertical-align: top;\n",
       "    }\n",
       "\n",
       "    .dataframe thead th {\n",
       "        text-align: right;\n",
       "    }\n",
       "</style>\n",
       "<table border=\"1\" class=\"dataframe\">\n",
       "  <thead>\n",
       "    <tr style=\"text-align: right;\">\n",
       "      <th></th>\n",
       "      <th>PassengerId</th>\n",
       "      <th>Survived</th>\n",
       "      <th>Pclass</th>\n",
       "      <th>Name</th>\n",
       "      <th>Sex</th>\n",
       "      <th>Age</th>\n",
       "      <th>SibSp</th>\n",
       "      <th>Parch</th>\n",
       "      <th>Ticket</th>\n",
       "      <th>Fare</th>\n",
       "      <th>Cabin</th>\n",
       "      <th>Embarked</th>\n",
       "    </tr>\n",
       "  </thead>\n",
       "  <tbody>\n",
       "    <tr>\n",
       "      <th>0</th>\n",
       "      <td>1</td>\n",
       "      <td>0</td>\n",
       "      <td>3</td>\n",
       "      <td>Braund, Mr. Owen Harris</td>\n",
       "      <td>male</td>\n",
       "      <td>22.0</td>\n",
       "      <td>1</td>\n",
       "      <td>0</td>\n",
       "      <td>A/5 21171</td>\n",
       "      <td>7.2500</td>\n",
       "      <td>NaN</td>\n",
       "      <td>S</td>\n",
       "    </tr>\n",
       "    <tr>\n",
       "      <th>1</th>\n",
       "      <td>2</td>\n",
       "      <td>1</td>\n",
       "      <td>1</td>\n",
       "      <td>Cumings, Mrs. John Bradley (Florence Briggs Th...</td>\n",
       "      <td>female</td>\n",
       "      <td>38.0</td>\n",
       "      <td>1</td>\n",
       "      <td>0</td>\n",
       "      <td>PC 17599</td>\n",
       "      <td>71.2833</td>\n",
       "      <td>C85</td>\n",
       "      <td>C</td>\n",
       "    </tr>\n",
       "    <tr>\n",
       "      <th>2</th>\n",
       "      <td>3</td>\n",
       "      <td>1</td>\n",
       "      <td>3</td>\n",
       "      <td>Heikkinen, Miss. Laina</td>\n",
       "      <td>female</td>\n",
       "      <td>26.0</td>\n",
       "      <td>0</td>\n",
       "      <td>0</td>\n",
       "      <td>STON/O2. 3101282</td>\n",
       "      <td>7.9250</td>\n",
       "      <td>NaN</td>\n",
       "      <td>S</td>\n",
       "    </tr>\n",
       "    <tr>\n",
       "      <th>3</th>\n",
       "      <td>4</td>\n",
       "      <td>1</td>\n",
       "      <td>1</td>\n",
       "      <td>Futrelle, Mrs. Jacques Heath (Lily May Peel)</td>\n",
       "      <td>female</td>\n",
       "      <td>35.0</td>\n",
       "      <td>1</td>\n",
       "      <td>0</td>\n",
       "      <td>113803</td>\n",
       "      <td>53.1000</td>\n",
       "      <td>C123</td>\n",
       "      <td>S</td>\n",
       "    </tr>\n",
       "    <tr>\n",
       "      <th>4</th>\n",
       "      <td>5</td>\n",
       "      <td>0</td>\n",
       "      <td>3</td>\n",
       "      <td>Allen, Mr. William Henry</td>\n",
       "      <td>male</td>\n",
       "      <td>35.0</td>\n",
       "      <td>0</td>\n",
       "      <td>0</td>\n",
       "      <td>373450</td>\n",
       "      <td>8.0500</td>\n",
       "      <td>NaN</td>\n",
       "      <td>S</td>\n",
       "    </tr>\n",
       "  </tbody>\n",
       "</table>\n",
       "</div>"
      ],
      "text/plain": [
       "   PassengerId  Survived  Pclass  \\\n",
       "0            1         0       3   \n",
       "1            2         1       1   \n",
       "2            3         1       3   \n",
       "3            4         1       1   \n",
       "4            5         0       3   \n",
       "\n",
       "                                                Name     Sex   Age  SibSp  \\\n",
       "0                            Braund, Mr. Owen Harris    male  22.0      1   \n",
       "1  Cumings, Mrs. John Bradley (Florence Briggs Th...  female  38.0      1   \n",
       "2                             Heikkinen, Miss. Laina  female  26.0      0   \n",
       "3       Futrelle, Mrs. Jacques Heath (Lily May Peel)  female  35.0      1   \n",
       "4                           Allen, Mr. William Henry    male  35.0      0   \n",
       "\n",
       "   Parch            Ticket     Fare Cabin Embarked  \n",
       "0      0         A/5 21171   7.2500   NaN        S  \n",
       "1      0          PC 17599  71.2833   C85        C  \n",
       "2      0  STON/O2. 3101282   7.9250   NaN        S  \n",
       "3      0            113803  53.1000  C123        S  \n",
       "4      0            373450   8.0500   NaN        S  "
      ]
     },
     "execution_count": 116,
     "metadata": {},
     "output_type": "execute_result"
    }
   ],
   "source": [
    "df.head()"
   ]
  },
  {
   "cell_type": "code",
   "execution_count": 118,
   "metadata": {},
   "outputs": [
    {
     "data": {
      "text/html": [
       "<div>\n",
       "<style scoped>\n",
       "    .dataframe tbody tr th:only-of-type {\n",
       "        vertical-align: middle;\n",
       "    }\n",
       "\n",
       "    .dataframe tbody tr th {\n",
       "        vertical-align: top;\n",
       "    }\n",
       "\n",
       "    .dataframe thead th {\n",
       "        text-align: right;\n",
       "    }\n",
       "</style>\n",
       "<table border=\"1\" class=\"dataframe\">\n",
       "  <thead>\n",
       "    <tr style=\"text-align: right;\">\n",
       "      <th></th>\n",
       "      <th>Survived</th>\n",
       "      <th>Pclass</th>\n",
       "      <th>Sex</th>\n",
       "      <th>Age</th>\n",
       "      <th>SibSp</th>\n",
       "      <th>Parch</th>\n",
       "      <th>Fare</th>\n",
       "      <th>Embarked</th>\n",
       "    </tr>\n",
       "  </thead>\n",
       "  <tbody>\n",
       "    <tr>\n",
       "      <th>0</th>\n",
       "      <td>0</td>\n",
       "      <td>3</td>\n",
       "      <td>male</td>\n",
       "      <td>22.0</td>\n",
       "      <td>1</td>\n",
       "      <td>0</td>\n",
       "      <td>7.2500</td>\n",
       "      <td>S</td>\n",
       "    </tr>\n",
       "    <tr>\n",
       "      <th>1</th>\n",
       "      <td>1</td>\n",
       "      <td>1</td>\n",
       "      <td>female</td>\n",
       "      <td>38.0</td>\n",
       "      <td>1</td>\n",
       "      <td>0</td>\n",
       "      <td>71.2833</td>\n",
       "      <td>C</td>\n",
       "    </tr>\n",
       "    <tr>\n",
       "      <th>2</th>\n",
       "      <td>1</td>\n",
       "      <td>3</td>\n",
       "      <td>female</td>\n",
       "      <td>26.0</td>\n",
       "      <td>0</td>\n",
       "      <td>0</td>\n",
       "      <td>7.9250</td>\n",
       "      <td>S</td>\n",
       "    </tr>\n",
       "    <tr>\n",
       "      <th>3</th>\n",
       "      <td>1</td>\n",
       "      <td>1</td>\n",
       "      <td>female</td>\n",
       "      <td>35.0</td>\n",
       "      <td>1</td>\n",
       "      <td>0</td>\n",
       "      <td>53.1000</td>\n",
       "      <td>S</td>\n",
       "    </tr>\n",
       "    <tr>\n",
       "      <th>4</th>\n",
       "      <td>0</td>\n",
       "      <td>3</td>\n",
       "      <td>male</td>\n",
       "      <td>35.0</td>\n",
       "      <td>0</td>\n",
       "      <td>0</td>\n",
       "      <td>8.0500</td>\n",
       "      <td>S</td>\n",
       "    </tr>\n",
       "  </tbody>\n",
       "</table>\n",
       "</div>"
      ],
      "text/plain": [
       "   Survived  Pclass     Sex   Age  SibSp  Parch     Fare Embarked\n",
       "0         0       3    male  22.0      1      0   7.2500        S\n",
       "1         1       1  female  38.0      1      0  71.2833        C\n",
       "2         1       3  female  26.0      0      0   7.9250        S\n",
       "3         1       1  female  35.0      1      0  53.1000        S\n",
       "4         0       3    male  35.0      0      0   8.0500        S"
      ]
     },
     "execution_count": 118,
     "metadata": {},
     "output_type": "execute_result"
    }
   ],
   "source": [
    "df.head()"
   ]
  },
  {
   "cell_type": "code",
   "execution_count": 104,
   "metadata": {},
   "outputs": [],
   "source": [
    "# After finding the all issues of data, we need to solve them one by one"
   ]
  },
  {
   "cell_type": "code",
   "execution_count": 120,
   "metadata": {},
   "outputs": [],
   "source": [
    "# Feature Engineering\n",
    "# Feature Engineering is the process of creating new features from existing features\n",
    "# Feature Engineering can help improve the performance of machine learning models\n",
    "# Feature Engineering can involve creating new features, transforming existing features, and selecting important features\n",
    "\n",
    "# Feature Engineering Techniques\n",
    "# 1. Creating New Features\n",
    "# 2. Transforming Existing Features\n",
    "# 3. Selecting Important Features\n",
    "\n",
    "# Creating New Features\n",
    "# We can create new features by combining existing features\n",
    "# Example: We can create a new feature 'FamilySize' by adding 'SibSp' and 'Parch'\n",
    "\n",
    "# Create a new feature 'FamilySize' by adding 'SibSp' and 'Parch'\n",
    "df['FamilySize'] = df['SibSp'] + df['Parch']\n"
   ]
  },
  {
   "cell_type": "code",
   "execution_count": 121,
   "metadata": {},
   "outputs": [
    {
     "data": {
      "text/html": [
       "<div>\n",
       "<style scoped>\n",
       "    .dataframe tbody tr th:only-of-type {\n",
       "        vertical-align: middle;\n",
       "    }\n",
       "\n",
       "    .dataframe tbody tr th {\n",
       "        vertical-align: top;\n",
       "    }\n",
       "\n",
       "    .dataframe thead th {\n",
       "        text-align: right;\n",
       "    }\n",
       "</style>\n",
       "<table border=\"1\" class=\"dataframe\">\n",
       "  <thead>\n",
       "    <tr style=\"text-align: right;\">\n",
       "      <th></th>\n",
       "      <th>Survived</th>\n",
       "      <th>Pclass</th>\n",
       "      <th>Sex</th>\n",
       "      <th>Age</th>\n",
       "      <th>SibSp</th>\n",
       "      <th>Parch</th>\n",
       "      <th>Fare</th>\n",
       "      <th>Embarked</th>\n",
       "      <th>FamilySize</th>\n",
       "    </tr>\n",
       "  </thead>\n",
       "  <tbody>\n",
       "    <tr>\n",
       "      <th>0</th>\n",
       "      <td>0</td>\n",
       "      <td>3</td>\n",
       "      <td>male</td>\n",
       "      <td>22.0</td>\n",
       "      <td>1</td>\n",
       "      <td>0</td>\n",
       "      <td>7.2500</td>\n",
       "      <td>S</td>\n",
       "      <td>1</td>\n",
       "    </tr>\n",
       "    <tr>\n",
       "      <th>1</th>\n",
       "      <td>1</td>\n",
       "      <td>1</td>\n",
       "      <td>female</td>\n",
       "      <td>38.0</td>\n",
       "      <td>1</td>\n",
       "      <td>0</td>\n",
       "      <td>71.2833</td>\n",
       "      <td>C</td>\n",
       "      <td>1</td>\n",
       "    </tr>\n",
       "    <tr>\n",
       "      <th>2</th>\n",
       "      <td>1</td>\n",
       "      <td>3</td>\n",
       "      <td>female</td>\n",
       "      <td>26.0</td>\n",
       "      <td>0</td>\n",
       "      <td>0</td>\n",
       "      <td>7.9250</td>\n",
       "      <td>S</td>\n",
       "      <td>0</td>\n",
       "    </tr>\n",
       "    <tr>\n",
       "      <th>3</th>\n",
       "      <td>1</td>\n",
       "      <td>1</td>\n",
       "      <td>female</td>\n",
       "      <td>35.0</td>\n",
       "      <td>1</td>\n",
       "      <td>0</td>\n",
       "      <td>53.1000</td>\n",
       "      <td>S</td>\n",
       "      <td>1</td>\n",
       "    </tr>\n",
       "    <tr>\n",
       "      <th>4</th>\n",
       "      <td>0</td>\n",
       "      <td>3</td>\n",
       "      <td>male</td>\n",
       "      <td>35.0</td>\n",
       "      <td>0</td>\n",
       "      <td>0</td>\n",
       "      <td>8.0500</td>\n",
       "      <td>S</td>\n",
       "      <td>0</td>\n",
       "    </tr>\n",
       "  </tbody>\n",
       "</table>\n",
       "</div>"
      ],
      "text/plain": [
       "   Survived  Pclass     Sex   Age  SibSp  Parch     Fare Embarked  FamilySize\n",
       "0         0       3    male  22.0      1      0   7.2500        S           1\n",
       "1         1       1  female  38.0      1      0  71.2833        C           1\n",
       "2         1       3  female  26.0      0      0   7.9250        S           0\n",
       "3         1       1  female  35.0      1      0  53.1000        S           1\n",
       "4         0       3    male  35.0      0      0   8.0500        S           0"
      ]
     },
     "execution_count": 121,
     "metadata": {},
     "output_type": "execute_result"
    }
   ],
   "source": [
    "df.head()"
   ]
  },
  {
   "cell_type": "code",
   "execution_count": 122,
   "metadata": {},
   "outputs": [],
   "source": [
    "# Since we have created new feature 'FamilySize', we can remove 'SibSp' and 'Parch' columns\n",
    "df = df.drop(columns=['SibSp', 'Parch'])\n"
   ]
  },
  {
   "cell_type": "code",
   "execution_count": 123,
   "metadata": {},
   "outputs": [
    {
     "data": {
      "text/html": [
       "<div>\n",
       "<style scoped>\n",
       "    .dataframe tbody tr th:only-of-type {\n",
       "        vertical-align: middle;\n",
       "    }\n",
       "\n",
       "    .dataframe tbody tr th {\n",
       "        vertical-align: top;\n",
       "    }\n",
       "\n",
       "    .dataframe thead th {\n",
       "        text-align: right;\n",
       "    }\n",
       "</style>\n",
       "<table border=\"1\" class=\"dataframe\">\n",
       "  <thead>\n",
       "    <tr style=\"text-align: right;\">\n",
       "      <th></th>\n",
       "      <th>Survived</th>\n",
       "      <th>Pclass</th>\n",
       "      <th>Sex</th>\n",
       "      <th>Age</th>\n",
       "      <th>Fare</th>\n",
       "      <th>Embarked</th>\n",
       "      <th>FamilySize</th>\n",
       "    </tr>\n",
       "  </thead>\n",
       "  <tbody>\n",
       "    <tr>\n",
       "      <th>0</th>\n",
       "      <td>0</td>\n",
       "      <td>3</td>\n",
       "      <td>male</td>\n",
       "      <td>22.0</td>\n",
       "      <td>7.2500</td>\n",
       "      <td>S</td>\n",
       "      <td>1</td>\n",
       "    </tr>\n",
       "    <tr>\n",
       "      <th>1</th>\n",
       "      <td>1</td>\n",
       "      <td>1</td>\n",
       "      <td>female</td>\n",
       "      <td>38.0</td>\n",
       "      <td>71.2833</td>\n",
       "      <td>C</td>\n",
       "      <td>1</td>\n",
       "    </tr>\n",
       "    <tr>\n",
       "      <th>2</th>\n",
       "      <td>1</td>\n",
       "      <td>3</td>\n",
       "      <td>female</td>\n",
       "      <td>26.0</td>\n",
       "      <td>7.9250</td>\n",
       "      <td>S</td>\n",
       "      <td>0</td>\n",
       "    </tr>\n",
       "    <tr>\n",
       "      <th>3</th>\n",
       "      <td>1</td>\n",
       "      <td>1</td>\n",
       "      <td>female</td>\n",
       "      <td>35.0</td>\n",
       "      <td>53.1000</td>\n",
       "      <td>S</td>\n",
       "      <td>1</td>\n",
       "    </tr>\n",
       "    <tr>\n",
       "      <th>4</th>\n",
       "      <td>0</td>\n",
       "      <td>3</td>\n",
       "      <td>male</td>\n",
       "      <td>35.0</td>\n",
       "      <td>8.0500</td>\n",
       "      <td>S</td>\n",
       "      <td>0</td>\n",
       "    </tr>\n",
       "  </tbody>\n",
       "</table>\n",
       "</div>"
      ],
      "text/plain": [
       "   Survived  Pclass     Sex   Age     Fare Embarked  FamilySize\n",
       "0         0       3    male  22.0   7.2500        S           1\n",
       "1         1       1  female  38.0  71.2833        C           1\n",
       "2         1       3  female  26.0   7.9250        S           0\n",
       "3         1       1  female  35.0  53.1000        S           1\n",
       "4         0       3    male  35.0   8.0500        S           0"
      ]
     },
     "execution_count": 123,
     "metadata": {},
     "output_type": "execute_result"
    }
   ],
   "source": [
    "df.head()"
   ]
  },
  {
   "cell_type": "code",
   "execution_count": 124,
   "metadata": {},
   "outputs": [
    {
     "data": {
      "text/plain": [
       "FamilySize\n",
       "0    402\n",
       "1    139\n",
       "2     93\n",
       "3     27\n",
       "5     22\n",
       "6     12\n",
       "4     11\n",
       "7      6\n",
       "Name: count, dtype: int64"
      ]
     },
     "execution_count": 124,
     "metadata": {},
     "output_type": "execute_result"
    }
   ],
   "source": [
    "df['FamilySize'].value_counts()"
   ]
  },
  {
   "cell_type": "code",
   "execution_count": null,
   "metadata": {},
   "outputs": [],
   "source": [
    "# After creating new feature 'FamilySize', we can move to next step\n",
    "# Now we can even transform FamilySize into binary column like small, medium, large family based on the values of FamilySize\n",
    "\n",
    "# Transform the 'FamilySize' column into binary categories\n",
    "# Update 'FamilySize' to categorical based on specified bins\n",
    "# Make sure FamilySize is numeric (just in case it's not)\n",
    "df['FamilySize'] = pd.to_numeric(df['FamilySize'], errors='coerce')\n",
    "\n",
    "df['FamilySize'] = pd.cut(df['FamilySize'], bins=[0, 1, 3, 20, float('inf')], labels=['Small', 'Medium', 'Large', 'Very Large'])\n",
    "\n",
    "# Transforming Existing Features\n",
    "# We can transform existing features to make them more suitable for analysis\n",
    "# Example: We can transform the 'Age' column into age groups\n",
    "\n",
    "# Transform the 'Age' column into age groups\n",
    "# Update 'Age' to categorical based on specified bins\n",
    "df['Age'] = pd.cut(df['Age'], bins=[0, 18, 30, 50, 80], labels=['Child', 'Young', 'Adult', 'Senior'])\n",
    "\n",
    "\n"
   ]
  },
  {
   "cell_type": "code",
   "execution_count": 130,
   "metadata": {},
   "outputs": [],
   "source": [
    "# Further we can transform Fare column into fare groups\n",
    "# Transform the 'Fare' column into fare groups\n",
    "# Update 'Fare' to categorical based on specified bins\n",
    "df['Fare'] = pd.cut(df['Fare'], bins=[0, 10, 20, 30, 40, 50, 100, 200, float('inf')], labels=['0-10', '10-20', '20-30', '30-40', '40-50', '50-100', '100-200', '200+'])\n"
   ]
  },
  {
   "cell_type": "code",
   "execution_count": 131,
   "metadata": {},
   "outputs": [],
   "source": [
    "# This way we can do feature engineering in machine learning"
   ]
  },
  {
   "cell_type": "code",
   "execution_count": null,
   "metadata": {},
   "outputs": [],
   "source": [
    "# Feature Selection\n",
    "# Feature Selection is the process of selecting important features for analysis\n",
    "# Feature Selection can help improve the performance of machine learning models\n",
    "# Feature Selection can involve removing irrelevant features, redundant features, or highly correlated features\n",
    "\n",
    "# Feature Selection Techniques\n",
    "# 1. Using Domain Knowledge"
   ]
  },
  {
   "cell_type": "code",
   "execution_count": 32,
   "metadata": {},
   "outputs": [
    {
     "name": "stdout",
     "output_type": "stream",
     "text": [
      "0.5102446555756495 4.787316519674893\n"
     ]
    }
   ],
   "source": [
    "# Data Transformation\n",
    "\n",
    "# Check for Normal Distribution using Skew\n",
    "# Generaaly, we consider data is normally distributed if skew value is between -0.5 to 0.5\n",
    "# If skew value is less than -0.5 then data is left skewed\n",
    "# If skew value is greater than 0.5 then data is right skewed\n",
    "\n",
    "age=df['Age'].skew()\n",
    "fare= df['Fare'].skew()\n",
    "print(age, fare)"
   ]
  },
  {
   "cell_type": "code",
   "execution_count": 33,
   "metadata": {},
   "outputs": [],
   "source": [
    "# Here, 'Age' is right skewed and 'Fare' is right skewed because skew value is greater than 0.5\n",
    "# So we need to apply transformation to make it normally distributed\n",
    "# For right skewed data, we can apply log1p transformation\n",
    "# For left skewed data, we can apply Box-Cox transformation\n",
    "\n",
    "# Note, we dont apply box cox where data is zero or negative values so alternative is yeo-johnson transformation\n",
    "# Note, if there is 0 in right skewed data then we can apply log1p else we can apply log \n"
   ]
  },
  {
   "cell_type": "code",
   "execution_count": 35,
   "metadata": {},
   "outputs": [
    {
     "name": "stdout",
     "output_type": "stream",
     "text": [
      "Skewness of Age: 0.5102446555756495\n",
      "Suggested Transformation for Age: Use log (log(x))\n",
      "Reason: The data is right-skewed (skewness = 0.5102446555756495), and contains only positive values. Use log(x).\n",
      "Skewness of Fare: 4.787316519674893\n",
      "Suggested Transformation for Fare: Use log1p (log(1+x))\n",
      "Reason: The data is right-skewed (skewness = 4.787316519674893), and contains zero or negative values. Use log1p(x) to handle zeros.\n"
     ]
    }
   ],
   "source": [
    "# Program to check what to apply in age and fare\n",
    "\n",
    "import numpy as np\n",
    "from scipy.stats import boxcox\n",
    "from sklearn.preprocessing import PowerTransformer\n",
    "\n",
    "def suggest_transformation(df, column_name):\n",
    "    skewness = df[column_name].skew()\n",
    "    print(f\"Skewness of {column_name}: {skewness}\")\n",
    "\n",
    "    # Right-Skewed Data\n",
    "    if skewness > 0.5:  \n",
    "        # Check for zero or negative values\n",
    "        if (df[column_name] <= 0).any():  # Contains zero or negative values\n",
    "            print(f\"Suggested Transformation for {column_name}: Use log1p (log(1+x))\")\n",
    "            print(f\"Reason: The data is right-skewed (skewness = {skewness}), and contains zero or negative values. Use log1p(x) to handle zeros.\")\n",
    "        else:\n",
    "            print(f\"Suggested Transformation for {column_name}: Use log (log(x))\")\n",
    "            print(f\"Reason: The data is right-skewed (skewness = {skewness}), and contains only positive values. Use log(x).\")\n",
    "    \n",
    "    # Left-Skewed Data\n",
    "    elif skewness < -0.5:  \n",
    "        # Check for zero or negative values\n",
    "        if (df[column_name] <= 0).any():  # Contains zero or negative values\n",
    "            print(f\"Suggested Transformation for {column_name}: Use Yeo-Johnson Transformation\")\n",
    "            print(f\"Reason: The data is left-skewed (skewness = {skewness}), and contains zero or negative values. Use Yeo-Johnson transformation.\")\n",
    "        else:\n",
    "            print(f\"Suggested Transformation for {column_name}: Use Box-Cox Transformation\")\n",
    "            print(f\"Reason: The data is left-skewed (skewness = {skewness}), and contains only positive values. Use Box-Cox transformation.\")\n",
    "    \n",
    "    # Data is approximately normal\n",
    "    else:\n",
    "        print(f\"{column_name} is approximately normal (skewness = {skewness}). No transformation needed.\")\n",
    "    \n",
    "# Example: Apply to any column in your dataframe\n",
    "df = df.copy()  # Make a copy of the original dataframe before applying transformations\n",
    "\n",
    "# Call the function for any column (e.g., 'Age' or 'Fare')\n",
    "suggest_transformation(df, 'Age')\n",
    "suggest_transformation(df, 'Fare')\n",
    "\n"
   ]
  },
  {
   "cell_type": "code",
   "execution_count": 36,
   "metadata": {},
   "outputs": [
    {
     "name": "stdout",
     "output_type": "stream",
     "text": [
      "Applied log transformation to Age\n",
      "Applied log1p transformation to Fare\n"
     ]
    },
    {
     "data": {
      "text/html": [
       "<div>\n",
       "<style scoped>\n",
       "    .dataframe tbody tr th:only-of-type {\n",
       "        vertical-align: middle;\n",
       "    }\n",
       "\n",
       "    .dataframe tbody tr th {\n",
       "        vertical-align: top;\n",
       "    }\n",
       "\n",
       "    .dataframe thead th {\n",
       "        text-align: right;\n",
       "    }\n",
       "</style>\n",
       "<table border=\"1\" class=\"dataframe\">\n",
       "  <thead>\n",
       "    <tr style=\"text-align: right;\">\n",
       "      <th></th>\n",
       "      <th>Age</th>\n",
       "      <th>Fare</th>\n",
       "    </tr>\n",
       "  </thead>\n",
       "  <tbody>\n",
       "    <tr>\n",
       "      <th>0</th>\n",
       "      <td>3.091042</td>\n",
       "      <td>2.110213</td>\n",
       "    </tr>\n",
       "    <tr>\n",
       "      <th>1</th>\n",
       "      <td>3.637586</td>\n",
       "      <td>4.280593</td>\n",
       "    </tr>\n",
       "    <tr>\n",
       "      <th>2</th>\n",
       "      <td>3.258097</td>\n",
       "      <td>2.188856</td>\n",
       "    </tr>\n",
       "    <tr>\n",
       "      <th>3</th>\n",
       "      <td>3.555348</td>\n",
       "      <td>3.990834</td>\n",
       "    </tr>\n",
       "    <tr>\n",
       "      <th>4</th>\n",
       "      <td>3.555348</td>\n",
       "      <td>2.202765</td>\n",
       "    </tr>\n",
       "  </tbody>\n",
       "</table>\n",
       "</div>"
      ],
      "text/plain": [
       "        Age      Fare\n",
       "0  3.091042  2.110213\n",
       "1  3.637586  4.280593\n",
       "2  3.258097  2.188856\n",
       "3  3.555348  3.990834\n",
       "4  3.555348  2.202765"
      ]
     },
     "execution_count": 36,
     "metadata": {},
     "output_type": "execute_result"
    }
   ],
   "source": [
    "import numpy as np\n",
    "\n",
    "# Apply log transformation to Age (right-skewed, only positive values)\n",
    "df['Age'] = np.log(df['Age'])  # Apply log(x) transformation to Age\n",
    "print(\"Applied log transformation to Age\")\n",
    "\n",
    "# Apply log1p transformation to Fare (right-skewed, might contain zero or negative values)\n",
    "df['Fare'] = np.log1p(df['Fare'])  # Apply log(1 + x) transformation to Fare\n",
    "print(\"Applied log1p transformation to Fare\")\n",
    "\n",
    "# Check the first few rows to confirm the transformations\n",
    "df[['Age', 'Fare']].head()\n"
   ]
  },
  {
   "cell_type": "code",
   "execution_count": 132,
   "metadata": {},
   "outputs": [],
   "source": [
    "# Data Normalization\n",
    "# Data Normalization is the process of scaling data to a fixed range\n",
    "# Data Normalization can help improve the performance of machine learning models\n",
    "# Data Normalization can involve scaling features to a range of [0, 1] or [-1, 1]\n",
    "\n",
    "# Data Normalization Techniques\n",
    "# 1. Standardization (We use often)\n",
    "# 2. Min-Max Scaling \n",
    "# 3. Robust Scaling (Specifically for Outliers)"
   ]
  },
  {
   "cell_type": "code",
   "execution_count": 133,
   "metadata": {},
   "outputs": [],
   "source": [
    "# Data Encoding\n",
    "# Data Encoding is the process of converting categorical data into numerical data\n",
    "# Data Encoding can help improve the performance of machine learning models\n",
    "# Data Encoding can involve converting text data into numerical data using techniques \n",
    "# like One-Hot Encoding, Label Encoding, and Ordinal Encoding  \n",
    "\n",
    "# We use One-Hot Encoding for Categorical Data which is nominal data\n",
    "# We use Label Encoding for Categorical Data which is ordinal data \n",
    "\n"
   ]
  },
  {
   "cell_type": "code",
   "execution_count": 134,
   "metadata": {},
   "outputs": [],
   "source": [
    "# Make a target column balanced here before going to data split\n",
    "# Class Imbalance Handling\n",
    "# Class Imbalance is a common problem in machine learning\n",
    "# Class Imbalance occurs when one class has significantly more samples than another class\n",
    "# Class Imbalance can lead to biased machine learning models\n",
    "# Class Imbalance can be handled using techniques like Oversampling, Undersampling, and SMOTE\n"
   ]
  },
  {
   "cell_type": "code",
   "execution_count": 135,
   "metadata": {},
   "outputs": [],
   "source": [
    "# Train-Test Split\n",
    "# Train-Test Split is the process of splitting data into training and testing sets\n",
    "# Train-Test Split can help evaluate the performance of machine learning models\n",
    "# Train-Test Split can involve splitting data into training and testing sets using a specified ratio (e.g., 80-20)\n"
   ]
  },
  {
   "cell_type": "code",
   "execution_count": 136,
   "metadata": {},
   "outputs": [],
   "source": [
    "# Modeling\n",
    "# Modeling is the process of building machine learning models\n",
    "# Modeling can involve selecting the appropriate machine learning algorithm\n",
    "# Modeling can involve training the machine learning model on the training data\n",
    "# Modeling can involve evaluating the machine learning model on the testing data\n"
   ]
  },
  {
   "cell_type": "code",
   "execution_count": 137,
   "metadata": {},
   "outputs": [],
   "source": [
    "# Evaluation\n",
    "# Evaluation is the process of assessing the performance of machine learning models\n",
    "# Evaluation can involve using metrics like Accuracy, Precision, Recall, F1 Score, and ROC-AUC\n",
    "# Evaluation can involve using techniques like Cross-Validation and Hyperparameter Tuning\n"
   ]
  },
  {
   "cell_type": "code",
   "execution_count": 138,
   "metadata": {},
   "outputs": [],
   "source": [
    "# Model Interpretability\n",
    "# Model Interpretability is the process of understanding how machine learning models make predictions\n",
    "# Model Interpretability can involve understanding the importance of features in machine learning models\n",
    "# Model Interpretability can involve visualizing the decision-making process of machine learning models\n"
   ]
  },
  {
   "cell_type": "code",
   "execution_count": 139,
   "metadata": {},
   "outputs": [],
   "source": [
    "# Model Deployment\n",
    "# Model Deployment is the process of making machine learning models available for use\n",
    "# Model Deployment can involve deploying machine learning models as web applications, APIs, or services\n",
    "# Model Deployment can involve monitoring the performance of machine learning models in production\n"
   ]
  },
  {
   "cell_type": "code",
   "execution_count": null,
   "metadata": {},
   "outputs": [],
   "source": []
  }
 ],
 "metadata": {
  "kernelspec": {
   "display_name": "Python 3",
   "language": "python",
   "name": "python3"
  },
  "language_info": {
   "codemirror_mode": {
    "name": "ipython",
    "version": 3
   },
   "file_extension": ".py",
   "mimetype": "text/x-python",
   "name": "python",
   "nbconvert_exporter": "python",
   "pygments_lexer": "ipython3",
   "version": "3.10.11"
  }
 },
 "nbformat": 4,
 "nbformat_minor": 2
}
