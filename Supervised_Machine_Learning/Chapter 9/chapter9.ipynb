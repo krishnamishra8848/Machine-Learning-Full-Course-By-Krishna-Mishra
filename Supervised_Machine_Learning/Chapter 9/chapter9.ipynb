{
 "cells": [
  {
   "cell_type": "markdown",
   "metadata": {},
   "source": [
    " Chapter -9 Data Normalization (Scaling like standardization, MinMaxScaler, RobustScaler)"
   ]
  },
  {
   "cell_type": "code",
   "execution_count": 1,
   "metadata": {},
   "outputs": [],
   "source": [
    "# Data Normalization\n",
    "# Data Normalization is the process of scaling data to a fixed range\n",
    "# Data Normalization can help improve the performance of machine learning models\n",
    "# Data Normalization can involve scaling features to a range of [0, 1] or [-1, 1]\n",
    "\n",
    "# Data Normalization Techniques\n",
    "# 1. Standardization (We use often)\n",
    "# 2. Min-Max Scaling \n",
    "# 3. Robust Scaling (Specifically for Outliers)"
   ]
  },
  {
   "cell_type": "code",
   "execution_count": null,
   "metadata": {},
   "outputs": [],
   "source": []
  }
 ],
 "metadata": {
  "kernelspec": {
   "display_name": "Python 3",
   "language": "python",
   "name": "python3"
  },
  "language_info": {
   "codemirror_mode": {
    "name": "ipython",
    "version": 3
   },
   "file_extension": ".py",
   "mimetype": "text/x-python",
   "name": "python",
   "nbconvert_exporter": "python",
   "pygments_lexer": "ipython3",
   "version": "3.10.11"
  }
 },
 "nbformat": 4,
 "nbformat_minor": 2
}
