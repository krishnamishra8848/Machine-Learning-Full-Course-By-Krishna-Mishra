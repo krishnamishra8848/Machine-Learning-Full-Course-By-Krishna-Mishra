{
 "cells": [
  {
   "cell_type": "markdown",
   "metadata": {},
   "source": [
    "Chapter -10 Data Encoding (One-Hot Encoding, Label Encoding, Ordinal Encoding)"
   ]
  },
  {
   "cell_type": "code",
   "execution_count": 1,
   "metadata": {},
   "outputs": [],
   "source": [
    "# Data Encoding\n",
    "# Data Encoding is the process of converting categorical data into numerical data\n",
    "# Data Encoding can help improve the performance of machine learning models\n",
    "# Data Encoding can involve converting text data into numerical data using techniques \n",
    "# like One-Hot Encoding, Label Encoding, and Ordinal Encoding  \n",
    "\n",
    "# We use One-Hot Encoding for Categorical Data which is nominal data\n",
    "# We use Label Encoding for Categorical Data which is ordinal data \n",
    "\n"
   ]
  },
  {
   "cell_type": "code",
   "execution_count": null,
   "metadata": {},
   "outputs": [],
   "source": []
  }
 ],
 "metadata": {
  "kernelspec": {
   "display_name": "Python 3",
   "language": "python",
   "name": "python3"
  },
  "language_info": {
   "codemirror_mode": {
    "name": "ipython",
    "version": 3
   },
   "file_extension": ".py",
   "mimetype": "text/x-python",
   "name": "python",
   "nbconvert_exporter": "python",
   "pygments_lexer": "ipython3",
   "version": "3.10.11"
  }
 },
 "nbformat": 4,
 "nbformat_minor": 2
}
